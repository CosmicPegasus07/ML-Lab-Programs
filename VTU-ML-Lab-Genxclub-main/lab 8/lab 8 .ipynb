{
 "cells": [
  {
   "cell_type": "markdown",
   "id": "announced-monte",
   "metadata": {},
   "source": [
    "# Experiment 8"
   ]
  },
  {
   "cell_type": "markdown",
   "id": "extensive-paraguay",
   "metadata": {},
   "source": [
    "## Apply EM algorithm to cluster a set of data stored in a .CSV file. Using the same data set for clustering using k-Means algorithm. Compare the results of these two algorithms and comment on the quality of clustering. You can add Java/Python ML library classes/API in the program."
   ]
  },
  {
   "cell_type": "code",
   "execution_count": 1,
   "id": "frequent-sullivan",
   "metadata": {},
   "outputs": [],
   "source": [
    "import numpy as np\n",
    "import matplotlib.pyplot as plt\n",
    "import pandas as pd\n",
    "from sklearn.cluster import KMeans\n",
    "from sklearn.mixture import GaussianMixture"
   ]
  },
  {
   "cell_type": "code",
   "execution_count": 2,
   "id": "racial-lease",
   "metadata": {},
   "outputs": [
    {
     "name": "stdout",
     "output_type": "stream",
     "text": [
      "     Driver_ID  Distance_Feature  Speeding_Feature\n",
      "0   3423311935             71.24                28\n",
      "1   3423313212             52.53                25\n",
      "2   3423313724             64.54                27\n",
      "3   3423311373             55.69                22\n",
      "4   3423310999             54.58                25\n",
      "5   3423313857             41.91                10\n",
      "6   3423312432             58.64                20\n",
      "7   3423311434             52.02                 8\n",
      "8   3423311328             31.25                34\n",
      "9   3423312488             44.31                19\n",
      "10  3423311254             49.35                40\n",
      "11  3423312943             58.07                45\n",
      "12  3423312536             44.22                22\n",
      "13  3423311542             55.73                19\n",
      "14  3423312176             46.63                43\n",
      "15  3423314176             52.97                32\n",
      "16  3423314202             46.25                35\n",
      "17  3423311346             51.55                27\n",
      "18  3423310666             57.05                26\n",
      "19  3423313527             58.45                30\n",
      "20  3423312182             43.42                23\n",
      "21  3423313590             55.68                37\n",
      "22  3423312268             55.15                18\n"
     ]
    }
   ],
   "source": [
    "data=pd.read_csv(\"clusterdata.csv\")\n",
    "df1=pd.DataFrame(data)\n",
    "print(df1)\n",
    "f1 = df1['Distance_Feature'].values\n",
    "f2 = df1['Speeding_Feature'].values"
   ]
  },
  {
   "cell_type": "code",
   "execution_count": 3,
   "id": "satellite-olive",
   "metadata": {},
   "outputs": [
    {
     "data": {
      "text/plain": [
       "array([71.24, 52.53, 64.54, 55.69, 54.58, 41.91, 58.64, 52.02, 31.25,\n",
       "       44.31, 49.35, 58.07, 44.22, 55.73, 46.63, 52.97, 46.25, 51.55,\n",
       "       57.05, 58.45, 43.42, 55.68, 55.15])"
      ]
     },
     "execution_count": 3,
     "metadata": {},
     "output_type": "execute_result"
    }
   ],
   "source": [
    "f1"
   ]
  },
  {
   "cell_type": "code",
   "execution_count": 4,
   "id": "legendary-cooperation",
   "metadata": {},
   "outputs": [
    {
     "data": {
      "text/plain": [
       "array([28, 25, 27, 22, 25, 10, 20,  8, 34, 19, 40, 45, 22, 19, 43, 32, 35,\n",
       "       27, 26, 30, 23, 37, 18], dtype=int64)"
      ]
     },
     "execution_count": 4,
     "metadata": {},
     "output_type": "execute_result"
    }
   ],
   "source": [
    "f2"
   ]
  },
  {
   "cell_type": "code",
   "execution_count": 16,
   "id": "plastic-indication",
   "metadata": {},
   "outputs": [
    {
     "data": {
      "image/png": "[encoded data removed]",
      "text/plain": [
       "<Figure size 432x288 with 6 Axes>"
      ]
     },
     "metadata": {
      "needs_background": "light"
     },
     "output_type": "display_data"
    }
   ],
   "source": [
    "fig = plt.figure()\n",
    "fig.subplots_adjust(hspace=0.4, wspace=0.4)\n",
    "for i in range(1, 7):\n",
    "    plt.subplot(2, 3,i)\n",
    "    plt.text(0.5, 0.5, str((2, 3, i)),\n",
    "             fontsize=18, ha='center')"
   ]
  },
  {
   "cell_type": "code",
   "execution_count": 13,
   "id": "specialized-infrastructure",
   "metadata": {},
   "outputs": [
    {
     "data": {
      "text/plain": [
       "<matplotlib.collections.PathCollection at 0x223eb5202c8>"
      ]
     },
     "execution_count": 13,
     "metadata": {},
     "output_type": "execute_result"
    },
    {
     "data": {
      "image/png": "[encoded data removed]",
      "text/plain": [
       "<Figure size 432x288 with 1 Axes>"
      ]
     },
     "metadata": {
      "needs_background": "light"
     },
     "output_type": "display_data"
    }
   ],
   "source": [
    "X=np.matrix(list(zip(f1,f2)))\n",
    "# plt.subplot(511)\n",
    "plt.xlim([0, 100])\n",
    "plt.ylim([0, 50])\n",
    "plt.title('Dataset')\n",
    "plt.ylabel('speeding_feature')\n",
    "plt.xlabel('distance_feature')\n",
    "plt.scatter(f1,f2)"
   ]
  },
  {
   "cell_type": "code",
   "execution_count": 31,
   "id": "reserved-climb",
   "metadata": {},
   "outputs": [],
   "source": [
    "colors = ['b', 'g', 'r']\n",
    "markers = ['o', 'v', 's']"
   ]
  },
  {
   "cell_type": "code",
   "execution_count": 33,
   "id": "intelligent-arlington",
   "metadata": {},
   "outputs": [
    {
     "data": {
      "image/png": "[encoded data removed]",
      "text/plain": [
       "<Figure size 432x288 with 1 Axes>"
      ]
     },
     "metadata": {
      "needs_background": "light"
     },
     "output_type": "display_data"
    }
   ],
   "source": [
    "# ax=plt.subplot(513)\n",
    "plt.xlim([0, 100])\n",
    "plt.ylim([0, 50])\n",
    "plt.title('K- Means')\n",
    "plt.ylabel('speeding_feature')\n",
    "plt.xlabel('distance_feature')\n",
    "\n",
    "kmeans_model = KMeans(n_clusters=3).fit(X)\n",
    "for i, l in enumerate(kmeans_model.labels_):\n",
    "    plt.plot(f1[i], f2[i], color=colors[l],marker=markers[l])\n"
   ]
  },
  {
   "cell_type": "code",
   "execution_count": 23,
   "id": "trying-arrangement",
   "metadata": {},
   "outputs": [
    {
     "data": {
      "image/png": "[encoded data removed]",
      "text/plain": [
       "<Figure size 432x288 with 1 Axes>"
      ]
     },
     "metadata": {
      "needs_background": "light"
     },
     "output_type": "display_data"
    }
   ],
   "source": [
    "plt.plot(3)\n",
    "plt.subplot(515)\n",
    "plt.xlim([0, 100])\n",
    "plt.ylim([0, 50])\n",
    "plt.title('Gaussian Mixture')\n",
    "plt.ylabel('speeding_feature')\n",
    "plt.xlabel('distance_feature')\n",
    "gmm=GaussianMixture(n_components=3).fit(X)\n",
    "labels= gmm.predict(X)\n",
    "for i, l in enumerate(labels):\n",
    "    plt.plot(f1[i], f2[i], color=colors[l], marker=markers[l])"
   ]
  },
  {
   "cell_type": "code",
   "execution_count": null,
   "id": "biological-produce",
   "metadata": {},
   "outputs": [],
   "source": []
  }
 ],
 "metadata": {
  "kernelspec": {
   "display_name": "Python 3",
   "language": "python",
   "name": "python3"
  },
  "language_info": {
   "codemirror_mode": {
    "name": "ipython",
    "version": 3
   },
   "file_extension": ".py",
   "mimetype": "text/x-python",
   "name": "python",
   "nbconvert_exporter": "python",
   "pygments_lexer": "ipython3",
   "version": "3.7.7"
  }
 },
 "nbformat": 4,
 "nbformat_minor": 5
}
