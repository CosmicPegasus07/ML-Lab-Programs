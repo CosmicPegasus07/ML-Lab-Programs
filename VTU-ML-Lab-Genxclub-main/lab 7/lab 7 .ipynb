{
 "cells": [
  {
   "cell_type": "markdown",
   "id": "swedish-destiny",
   "metadata": {},
   "source": [
    "# Experiment 7"
   ]
  },
  {
   "cell_type": "markdown",
   "id": "serious-location",
   "metadata": {},
   "source": [
    "## Write a program to construct a Bayesian network considering medical data. Use this model to demonstrate the diagnosis of heart patients using standard Heart Disease Data Set. You can use Java/Python ML library classes/API.\n"
   ]
  },
  {
   "cell_type": "code",
   "execution_count": 2,
   "id": "royal-house",
   "metadata": {},
   "outputs": [],
   "source": [
    "'''\n",
    "Note:\n",
    "pip install bayespy\n",
    "pip install pgmpy\n",
    "'''\n",
    "import pandas as pd\n",
    "import numpy as np\n",
    "# import bayespy as bp\n",
    "import warnings \n",
    "warnings.filterwarnings('ignore')"
   ]
  },
  {
   "cell_type": "code",
   "execution_count": 6,
   "id": "graduate-government",
   "metadata": {},
   "outputs": [
    {
     "name": "stdout",
     "output_type": "stream",
     "text": [
      "Columns in the dataset\n",
      "age\n",
      "sex\n",
      "cp\n",
      "trestbps\n",
      "chol\n",
      "fbs\n",
      "restecg\n",
      "thalach\n",
      "exang\n",
      "oldpeak\n",
      "slope\n",
      "ca\n",
      "thal\n",
      "heartdisease\n"
     ]
    }
   ],
   "source": [
    "heart_disease=pd.read_csv(\"data7_heart.csv\")\n",
    "# print(heart_disease)\n",
    "print('Columns in the dataset')\n",
    "for col in heart_disease.columns: \n",
    "    print(col) "
   ]
  },
  {
   "cell_type": "code",
   "execution_count": 4,
   "id": "suspected-fossil",
   "metadata": {},
   "outputs": [],
   "source": [
    "from pgmpy.models import BayesianModel\n",
    "from pgmpy.estimators import MaximumLikelihoodEstimator\n",
    "model=BayesianModel([('age','trestbps'), ('age', 'fbs'), ('sex', 'trestbps'), ('exang',\n",
    "'trestbps'),('trestbps','heartdisease'),('fbs','heartdisease'),('heartdisease','restecg'),\n",
    "('heartdisease','thalach'), ('heartdisease','chol')])\n",
    "model.fit(heart_disease, estimator=MaximumLikelihoodEstimator)"
   ]
  },
  {
   "cell_type": "code",
   "execution_count": 7,
   "id": "invalid-demographic",
   "metadata": {},
   "outputs": [
    {
     "name": "stderr",
     "output_type": "stream",
     "text": [
      "Finding Elimination Order: :   0%| | 0/5\n",
      "  0%|             | 0/5 [00:00<?, ?it/s]\u001b[A\n",
      "Eliminating: restecg:   0%| | 0/5 [00:00\u001b[A\n",
      "Eliminating: chol:   0%| | 0/5 [00:00<?,\u001b[A\n",
      "Eliminating: fbs:   0%| | 0/5 [00:00<?, \u001b[A\n",
      "Eliminating: exang:   0%| | 0/5 [00:00<?\u001b[A\n",
      "Eliminating: thalach: 100%|█| 5/5 [00:00\u001b[A"
     ]
    },
    {
     "name": "stdout",
     "output_type": "stream",
     "text": [
      "+-----------------+---------------------+\n",
      "| heartdisease    |   phi(heartdisease) |\n",
      "+=================+=====================+\n",
      "| heartdisease(0) |              0.3846 |\n",
      "+-----------------+---------------------+\n",
      "| heartdisease(1) |              0.2308 |\n",
      "+-----------------+---------------------+\n",
      "| heartdisease(2) |              0.0000 |\n",
      "+-----------------+---------------------+\n",
      "| heartdisease(3) |              0.1538 |\n",
      "+-----------------+---------------------+\n",
      "| heartdisease(4) |              0.2308 |\n",
      "+-----------------+---------------------+\n"
     ]
    },
    {
     "name": "stderr",
     "output_type": "stream",
     "text": [
      "\n"
     ]
    }
   ],
   "source": [
    "from pgmpy.inference import VariableElimination\n",
    "HeartDisease_infer = VariableElimination(model)\n",
    "q = HeartDisease_infer.query(variables=['heartdisease'], evidence={'age': 1, 'sex' :0,'trestbps':150})\n",
    "print(q)"
   ]
  }
 ],
 "metadata": {
  "kernelspec": {
   "display_name": "Python 3",
   "language": "python",
   "name": "python3"
  },
  "language_info": {
   "codemirror_mode": {
    "name": "ipython",
    "version": 3
   },
   "file_extension": ".py",
   "mimetype": "text/x-python",
   "name": "python",
   "nbconvert_exporter": "python",
   "pygments_lexer": "ipython3",
   "version": "3.7.7"
  }
 },
 "nbformat": 4,
 "nbformat_minor": 5
}
