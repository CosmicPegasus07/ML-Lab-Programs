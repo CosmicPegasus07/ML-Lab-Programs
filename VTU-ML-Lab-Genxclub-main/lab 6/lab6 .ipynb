{
 "cells": [
  {
   "cell_type": "markdown",
   "id": "clean-tuning",
   "metadata": {},
   "source": [
    "# Experiment 6"
   ]
  },
  {
   "cell_type": "markdown",
   "id": "willing-transcript",
   "metadata": {},
   "source": [
    "## Assuming a set of documents that need to be classified, use the Naive Bayes Classifier model to perform this task. Built - in Java classes/API can be used to write the program. Calculate the accuracy, precision, and recall for your data set."
   ]
  },
  {
   "cell_type": "code",
   "execution_count": 1,
   "id": "sharp-invite",
   "metadata": {},
   "outputs": [
    {
     "name": "stdout",
     "output_type": "stream",
     "text": [
      "Total instances in the dataset: 18\n"
     ]
    }
   ],
   "source": [
    "import pandas as pd\n",
    "import warnings \n",
    "warnings.filterwarnings('ignore')\n",
    "msg=pd.read_csv('naivetext1.csv',names=['message','label']) #Tabular form dta\n",
    "print('Total instances in the dataset:',msg.shape[0])"
   ]
  },
  {
   "cell_type": "code",
   "execution_count": 2,
   "id": "forbidden-mountain",
   "metadata": {},
   "outputs": [
    {
     "data": {
      "text/html": [
       "<div>\n",
       "<style scoped>\n",
       "    .dataframe tbody tr th:only-of-type {\n",
       "        vertical-align: middle;\n",
       "    }\n",
       "\n",
       "    .dataframe tbody tr th {\n",
       "        vertical-align: top;\n",
       "    }\n",
       "\n",
       "    .dataframe thead th {\n",
       "        text-align: right;\n",
       "    }\n",
       "</style>\n",
       "<table border=\"1\" class=\"dataframe\">\n",
       "  <thead>\n",
       "    <tr style=\"text-align: right;\">\n",
       "      <th></th>\n",
       "      <th>message</th>\n",
       "      <th>label</th>\n",
       "    </tr>\n",
       "  </thead>\n",
       "  <tbody>\n",
       "    <tr>\n",
       "      <th>0</th>\n",
       "      <td>I love this sandwich</td>\n",
       "      <td>pos</td>\n",
       "    </tr>\n",
       "    <tr>\n",
       "      <th>1</th>\n",
       "      <td>This is an amazing place</td>\n",
       "      <td>pos</td>\n",
       "    </tr>\n",
       "    <tr>\n",
       "      <th>2</th>\n",
       "      <td>I feel very good about these beers</td>\n",
       "      <td>pos</td>\n",
       "    </tr>\n",
       "    <tr>\n",
       "      <th>3</th>\n",
       "      <td>This is my best work</td>\n",
       "      <td>pos</td>\n",
       "    </tr>\n",
       "    <tr>\n",
       "      <th>4</th>\n",
       "      <td>What an awesome view</td>\n",
       "      <td>pos</td>\n",
       "    </tr>\n",
       "    <tr>\n",
       "      <th>5</th>\n",
       "      <td>I do not like this restaurant</td>\n",
       "      <td>neg</td>\n",
       "    </tr>\n",
       "    <tr>\n",
       "      <th>6</th>\n",
       "      <td>I am tired of this stuff</td>\n",
       "      <td>neg</td>\n",
       "    </tr>\n",
       "    <tr>\n",
       "      <th>7</th>\n",
       "      <td>I can't deal with this</td>\n",
       "      <td>neg</td>\n",
       "    </tr>\n",
       "    <tr>\n",
       "      <th>8</th>\n",
       "      <td>He is my sworn enemy</td>\n",
       "      <td>neg</td>\n",
       "    </tr>\n",
       "    <tr>\n",
       "      <th>9</th>\n",
       "      <td>My boss is horrible</td>\n",
       "      <td>neg</td>\n",
       "    </tr>\n",
       "    <tr>\n",
       "      <th>10</th>\n",
       "      <td>This is an awesome place</td>\n",
       "      <td>pos</td>\n",
       "    </tr>\n",
       "    <tr>\n",
       "      <th>11</th>\n",
       "      <td>I do not like the taste of this juice</td>\n",
       "      <td>neg</td>\n",
       "    </tr>\n",
       "    <tr>\n",
       "      <th>12</th>\n",
       "      <td>I love to dance</td>\n",
       "      <td>pos</td>\n",
       "    </tr>\n",
       "    <tr>\n",
       "      <th>13</th>\n",
       "      <td>I am sick and tired of this place</td>\n",
       "      <td>neg</td>\n",
       "    </tr>\n",
       "    <tr>\n",
       "      <th>14</th>\n",
       "      <td>What a great holiday</td>\n",
       "      <td>pos</td>\n",
       "    </tr>\n",
       "    <tr>\n",
       "      <th>15</th>\n",
       "      <td>That is a bad locality to stay</td>\n",
       "      <td>neg</td>\n",
       "    </tr>\n",
       "    <tr>\n",
       "      <th>16</th>\n",
       "      <td>We will have good fun tomorrow</td>\n",
       "      <td>pos</td>\n",
       "    </tr>\n",
       "    <tr>\n",
       "      <th>17</th>\n",
       "      <td>I went to my enemy's house today</td>\n",
       "      <td>neg</td>\n",
       "    </tr>\n",
       "  </tbody>\n",
       "</table>\n",
       "</div>"
      ],
      "text/plain": [
       "                                   message label\n",
       "0                     I love this sandwich   pos\n",
       "1                 This is an amazing place   pos\n",
       "2       I feel very good about these beers   pos\n",
       "3                     This is my best work   pos\n",
       "4                     What an awesome view   pos\n",
       "5            I do not like this restaurant   neg\n",
       "6                 I am tired of this stuff   neg\n",
       "7                   I can't deal with this   neg\n",
       "8                     He is my sworn enemy   neg\n",
       "9                      My boss is horrible   neg\n",
       "10                This is an awesome place   pos\n",
       "11  I do not like the taste of this juice    neg\n",
       "12                         I love to dance   pos\n",
       "13       I am sick and tired of this place   neg\n",
       "14                    What a great holiday   pos\n",
       "15          That is a bad locality to stay   neg\n",
       "16          We will have good fun tomorrow   pos\n",
       "17        I went to my enemy's house today   neg"
      ]
     },
     "execution_count": 2,
     "metadata": {},
     "output_type": "execute_result"
    }
   ],
   "source": [
    "msg"
   ]
  },
  {
   "cell_type": "code",
   "execution_count": 6,
   "id": "conditional-breed",
   "metadata": {},
   "outputs": [],
   "source": [
    "msg['labelnum']=msg.label.map({'pos':1,'neg':0})\n",
    "X=msg.message\n",
    "Y=msg.label"
   ]
  },
  {
   "cell_type": "code",
   "execution_count": 7,
   "id": "conditional-alfred",
   "metadata": {},
   "outputs": [
    {
     "data": {
      "text/plain": [
       "0                       I love this sandwich\n",
       "1                   This is an amazing place\n",
       "2         I feel very good about these beers\n",
       "3                       This is my best work\n",
       "4                       What an awesome view\n",
       "5              I do not like this restaurant\n",
       "6                   I am tired of this stuff\n",
       "7                     I can't deal with this\n",
       "8                       He is my sworn enemy\n",
       "9                        My boss is horrible\n",
       "10                  This is an awesome place\n",
       "11    I do not like the taste of this juice \n",
       "12                           I love to dance\n",
       "13         I am sick and tired of this place\n",
       "14                      What a great holiday\n",
       "15            That is a bad locality to stay\n",
       "16            We will have good fun tomorrow\n",
       "17          I went to my enemy's house today\n",
       "Name: message, dtype: object"
      ]
     },
     "execution_count": 7,
     "metadata": {},
     "output_type": "execute_result"
    }
   ],
   "source": [
    "X"
   ]
  },
  {
   "cell_type": "code",
   "execution_count": 8,
   "id": "little-happening",
   "metadata": {},
   "outputs": [
    {
     "data": {
      "text/plain": [
       "0      pos\n",
       "1      pos\n",
       "2      pos\n",
       "3      pos\n",
       "4      pos\n",
       "5      neg\n",
       "6      neg\n",
       "7      neg\n",
       "8      neg\n",
       "9      neg\n",
       "10     pos\n",
       "11     neg\n",
       "12     pos\n",
       "13     neg\n",
       "14     pos\n",
       "15     neg\n",
       "16     pos\n",
       "17     neg\n",
       "Name: label, dtype: object"
      ]
     },
     "execution_count": 8,
     "metadata": {},
     "output_type": "execute_result"
    }
   ],
   "source": [
    "Y"
   ]
  },
  {
   "cell_type": "code",
   "execution_count": 9,
   "id": "psychological-american",
   "metadata": {},
   "outputs": [
    {
     "name": "stdout",
     "output_type": "stream",
     "text": [
      "\n",
      "The message and its label of first 5 instances are listed below\n",
      "I love this sandwich ,  pos\n",
      "This is an amazing place ,  pos\n",
      "I feel very good about these beers ,  pos\n",
      "This is my best work ,  pos\n",
      "What an awesome view ,  pos\n"
     ]
    }
   ],
   "source": [
    "print('\\nThe message and its label of first 5 instances are listed below')\n",
    "X5, Y5 = X[0:5], msg.label[0:5]\n",
    "for x, y in zip(X5,Y5):\n",
    "  print(x,',',y)"
   ]
  },
  {
   "cell_type": "code",
   "execution_count": 10,
   "id": "charged-regression",
   "metadata": {},
   "outputs": [
    {
     "name": "stdout",
     "output_type": "stream",
     "text": [
      "\n",
      "Dataset is split into Training and Testing samples\n",
      "Total training instances : 13\n",
      "Total testing instances : 5\n"
     ]
    }
   ],
   "source": [
    "from sklearn.model_selection import train_test_split\n",
    "xtrain,xtest,ytrain,ytest=train_test_split(X,Y)\n",
    "print('\\nDataset is split into Training and Testing samples')\n",
    "print('Total training instances :', xtrain.shape[0])\n",
    "print('Total testing instances :', xtest.shape[0])"
   ]
  },
  {
   "cell_type": "code",
   "execution_count": 13,
   "id": "documentary-passing",
   "metadata": {},
   "outputs": [
    {
     "name": "stdout",
     "output_type": "stream",
     "text": [
      "\n",
      "Total features extracted using CountVectorizer: 46\n"
     ]
    }
   ],
   "source": [
    "from sklearn.feature_extraction.text import CountVectorizer\n",
    "count_vect = CountVectorizer()\n",
    "xtrain_dtm = count_vect.fit_transform(xtrain) #Sparse matrix\n",
    "xtest_dtm = count_vect.transform(xtest)\n",
    "print('\\nTotal features extracted using CountVectorizer:',xtrain_dtm.shape[1])"
   ]
  },
  {
   "cell_type": "code",
   "execution_count": 15,
   "id": "auburn-jacob",
   "metadata": {},
   "outputs": [
    {
     "data": {
      "text/plain": [
       "<13x46 sparse matrix of type '<class 'numpy.int64'>'\n",
       "\twith 66 stored elements in Compressed Sparse Row format>"
      ]
     },
     "execution_count": 15,
     "metadata": {},
     "output_type": "execute_result"
    }
   ],
   "source": [
    "xtrain_dtm"
   ]
  },
  {
   "cell_type": "code",
   "execution_count": 16,
   "id": "defined-month",
   "metadata": {},
   "outputs": [
    {
     "name": "stdout",
     "output_type": "stream",
     "text": [
      "\n",
      "Features for first 5 training instances are listed below\n",
      "   about  am  amazing  an  and  awesome  bad  beers  best  boss  ...  this  \\\n",
      "0      0   0        0   0    0        0    0      0     0     1  ...     0   \n",
      "1      0   0        0   0    0        0    1      0     0     0  ...     0   \n",
      "2      0   0        0   1    0        1    0      0     0     0  ...     1   \n",
      "3      0   0        0   0    0        0    0      0     1     0  ...     1   \n",
      "4      0   0        0   0    0        0    0      0     0     0  ...     1   \n",
      "\n",
      "   tired  to  tomorrow  very  we  what  will  with  work  \n",
      "0      0   0         0     0   0     0     0     0     0  \n",
      "1      0   1         0     0   0     0     0     0     0  \n",
      "2      0   0         0     0   0     0     0     0     0  \n",
      "3      0   0         0     0   0     0     0     0     1  \n",
      "4      0   0         0     0   0     0     0     0     0  \n",
      "\n",
      "[5 rows x 46 columns]\n"
     ]
    }
   ],
   "source": [
    "print('\\nFeatures for first 5 training instances are listed below')\n",
    "df=pd.DataFrame(xtrain_dtm.toarray(),columns=count_vect.get_feature_names())\n",
    "print(df[0:5])"
   ]
  },
  {
   "cell_type": "code",
   "execution_count": 17,
   "id": "acquired-costume",
   "metadata": {},
   "outputs": [],
   "source": [
    "from sklearn.naive_bayes import MultinomialNB\n",
    "clf = MultinomialNB().fit(xtrain_dtm,ytrain)\n",
    "predicted = clf.predict(xtest_dtm)"
   ]
  },
  {
   "cell_type": "code",
   "execution_count": 18,
   "id": "assured-barcelona",
   "metadata": {},
   "outputs": [
    {
     "name": "stdout",
     "output_type": "stream",
     "text": [
      "\n",
      "Classstification results of testing samples are given below\n",
      "I love to dance -> neg \n",
      "I do not like the taste of this juice  -> neg \n",
      "I went to my enemy's house today -> neg \n",
      "I love this sandwich -> neg \n",
      "What an awesome view -> neg \n"
     ]
    }
   ],
   "source": [
    "print('\\nClassstification results of testing samples are given below')\n",
    "for doc, p in zip(xtest, predicted):\n",
    "    pred = 'pos' if p==1 else 'neg'\n",
    "    print('%s -> %s ' % (doc, pred))"
   ]
  },
  {
   "cell_type": "code",
   "execution_count": 19,
   "id": "adopted-amendment",
   "metadata": {},
   "outputs": [
    {
     "name": "stdout",
     "output_type": "stream",
     "text": [
      "\n",
      "Accuracy metrics\n",
      "Accuracy of the classifer is 0.4\n",
      "Recall:0.4\n",
      " Precison:0.4\n",
      "Confusion matrix\n",
      "[[1 0 0]\n",
      " [2 1 0]\n",
      " [1 0 0]]\n"
     ]
    }
   ],
   "source": [
    "from sklearn.metrics import accuracy_score,recall_score,precision_score,confusion_matrix\n",
    "print('\\nAccuracy metrics')\n",
    "print('Accuracy of the classifer is',accuracy_score(ytest,predicted))\n",
    "print('Recall:{0}\\n Precison:{1}'.format(recall_score(ytest,predicted, pos_label='positive',average='micro'),precision_score(ytest,predicted,pos_label='positive',average='micro')))\n",
    "print('Confusion matrix')\n",
    "print(confusion_matrix(ytest,predicted)) "
   ]
  },
  {
   "cell_type": "code",
   "execution_count": null,
   "id": "located-brook",
   "metadata": {},
   "outputs": [],
   "source": []
  }
 ],
 "metadata": {
  "kernelspec": {
   "display_name": "Python 3",
   "language": "python",
   "name": "python3"
  },
  "language_info": {
   "codemirror_mode": {
    "name": "ipython",
    "version": 3
   },
   "file_extension": ".py",
   "mimetype": "text/x-python",
   "name": "python",
   "nbconvert_exporter": "python",
   "pygments_lexer": "ipython3",
   "version": "3.7.7"
  }
 },
 "nbformat": 4,
 "nbformat_minor": 5
}
