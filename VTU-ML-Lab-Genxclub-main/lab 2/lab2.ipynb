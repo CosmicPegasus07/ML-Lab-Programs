{
 "cells": [
  {
   "cell_type": "markdown",
   "metadata": {},
   "source": [
    "# Experiment 2"
   ]
  },
  {
   "cell_type": "markdown",
   "metadata": {},
   "source": [
    "## For a given set of training data examples stored in a .CSV file, implement and demonstrate the Candidate-Elimination algorithmto output a description of the set of all hypotheses consistent with the training examples."
   ]
  },
  {
   "cell_type": "code",
   "execution_count": 1,
   "metadata": {},
   "outputs": [
    {
     "name": "stdout",
     "output_type": "stream",
     "text": [
      "\n",
      " The Given Training Data Set\n",
      "['sunny', 'warm', 'normal', 'strong', 'warm', 'same', 'Yes']\n",
      "['sunny', 'warm', 'high', 'strong', 'warm', 'same', 'Yes']\n",
      "['rainy', 'cold', 'high', 'strong', 'warm', 'change', 'No']\n",
      "['sunny', 'warm', 'high', 'strong', 'cool', 'change', 'Yes']\n"
     ]
    }
   ],
   "source": [
    "import csv\n",
    "a = []\n",
    "print(\"\\n The Given Training Data Set\")\n",
    "with open('enjoysport.csv', 'r') as csvFile:\n",
    "    reader = csv.reader(csvFile)\n",
    "    for row in reader:\n",
    "        a.append (row)\n",
    "        print(row)\n",
    "num_attributes = len(a[0])-1"
   ]
  },
  {
   "cell_type": "code",
   "execution_count": 2,
   "metadata": {},
   "outputs": [
    {
     "name": "stdout",
     "output_type": "stream",
     "text": [
      "\n",
      " The initial value of hypothesis: \n",
      "\n",
      " The most specific hypothesis S0 : [0,0,0,0,0,0]\n",
      " \n",
      " The most general hypothesis G0 : [?,?,?,?,?,?]\n"
     ]
    }
   ],
   "source": [
    "print(\"\\n The initial value of hypothesis: \")\n",
    "S = ['0'] * num_attributes\n",
    "G = ['?'] * num_attributes\n",
    "print (\"\\n The most specific hypothesis S0 : [0,0,0,0,0,0]\")\n",
    "print (\" \\n The most general hypothesis G0 : [?,?,?,?,?,?]\")"
   ]
  },
  {
   "cell_type": "code",
   "execution_count": 3,
   "metadata": {},
   "outputs": [],
   "source": [
    "for j in range(0,num_attributes):\n",
    "    S[j]=a[0][j];"
   ]
  },
  {
   "cell_type": "code",
   "execution_count": 4,
   "metadata": {},
   "outputs": [
    {
     "data": {
      "text/plain": [
       "['sunny', 'warm', 'normal', 'strong', 'warm', 'same']"
      ]
     },
     "execution_count": 4,
     "metadata": {},
     "output_type": "execute_result"
    }
   ],
   "source": [
    "S"
   ]
  },
  {
   "cell_type": "code",
   "execution_count": 6,
   "metadata": {},
   "outputs": [
    {
     "name": "stdout",
     "output_type": "stream",
     "text": [
      "\n",
      " Candidate Elimination algorithm Hypotheses Version Space Computation\n",
      "\n",
      "----------------------------------------------------------------------------- \n",
      " For Training Example No :1 the hypothesis is S1  ['sunny', 'warm', '?', 'strong', '?', '?']\n",
      " For Training Example No :1 the hypothesis is G1  ['?', '?', '?', '?', '?', '?']\n",
      "----------------------------------------------------------------------------- \n",
      " For Training Example No :2 the hypothesis is S2  ['sunny', 'warm', '?', 'strong', '?', '?']\n",
      " For Training Example No :2 the hypothesis is G2  ['?', '?', '?', '?', '?', '?']\n",
      "----------------------------------------------------------------------------- \n",
      " For Training Example No :3 the hypothesis is S3  ['sunny', 'warm', '?', 'strong', '?', '?']\n",
      " For Training Example No :3 the hypothesis is G3 [['sunny', '?', '?', '?', '?', '?'], ['?', 'warm', '?', '?', '?', '?']]\n",
      "----------------------------------------------------------------------------- \n",
      " For Training Example No :4 the hypothesis is S4  ['sunny', 'warm', '?', 'strong', '?', '?']\n",
      " For  Positive Training Example No :4 the hypothesis is G4 [['sunny', '?', '?', '?', '?', '?'], ['?', 'warm', '?', '?', '?', '?']]\n"
     ]
    }
   ],
   "source": [
    "print(\"\\n Candidate Elimination algorithm Hypotheses Version Space Computation\\n\")\n",
    "temp=[]\n",
    "for i in range(0,len(a)):\n",
    "    if a[i][num_attributes]=='Yes':\n",
    "        for j in range(0,num_attributes):\n",
    "            if a[i][j]!=S[j]:\n",
    "                S[j]='?'\n",
    "        for j in range(0,num_attributes):\n",
    "            for k in range(1,len(temp)):\n",
    "                if temp[k][j]!='?' and temp[k][j]!=S[j]:\n",
    "                    del temp[k]\n",
    "        print(\"----------------------------------------------------------------------------- \")\n",
    "        print(\" For Training Example No :{0} the hypothesis is S{0} \".format(i+1),S)\n",
    "        if (len(temp)==0):\n",
    "            print(\" For Training Example No :{0} the hypothesis is G{0} \".format(i+1),G)\n",
    "        else:\n",
    "            print(\" For  Positive Training Example No :{0} the hypothesis is G{0}\".format(i+1),temp)\n",
    "    if a[i][num_attributes]=='No':\n",
    "        for j in range(0,num_attributes):\n",
    "            if S[j] != a[i][j] and S[j]!= '?':\n",
    "                G[j]=S[j]\n",
    "                temp.append(G)\n",
    "                G = ['?'] * num_attributes\n",
    "        print(\"----------------------------------------------------------------------------- \")\n",
    "        print(\" For Training Example No :{0} the hypothesis is S{0} \".format(i+1),S)\n",
    "        print(\" For Training Example No :{0} the hypothesis is G{0}\".format(i+1),temp)"
   ]
  }
 ],
 "metadata": {
  "kernelspec": {
   "display_name": "Python 3",
   "language": "python",
   "name": "python3"
  },
  "language_info": {
   "codemirror_mode": {
    "name": "ipython",
    "version": 3
   },
   "file_extension": ".py",
   "mimetype": "text/x-python",
   "name": "python",
   "nbconvert_exporter": "python",
   "pygments_lexer": "ipython3",
   "version": "3.7.7"
  }
 },
 "nbformat": 4,
 "nbformat_minor": 4
}
