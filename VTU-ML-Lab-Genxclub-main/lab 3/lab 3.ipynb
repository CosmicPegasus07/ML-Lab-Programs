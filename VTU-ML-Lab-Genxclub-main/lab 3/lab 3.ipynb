{
 "cells": [
  {
   "cell_type": "markdown",
   "id": "significant-exception",
   "metadata": {},
   "source": [
    "# Experiment 3"
   ]
  },
  {
   "cell_type": "markdown",
   "id": "successful-discrimination",
   "metadata": {},
   "source": [
    "## Write a program to demonstrate the working of the decision tree based on ID3 algorithm. Use an appropriate data set for building the decision tree and apply this knowledge to classify a new sample"
   ]
  },
  {
   "cell_type": "code",
   "execution_count": 1,
   "id": "affiliated-exposure",
   "metadata": {},
   "outputs": [],
   "source": [
    "import pandas as pd\n",
    "import numpy as np\n",
    "df_tennis = pd.read_csv('tennis.csv')"
   ]
  },
  {
   "cell_type": "code",
   "execution_count": 2,
   "id": "everyday-range",
   "metadata": {},
   "outputs": [],
   "source": [
    "from collections import Counter\n",
    "def entropy_list(a_list):\n",
    "    cnt = Counter(x for x in a_list)\n",
    "    num_instance = len(a_list)*1.0\n",
    "    probs = [x/num_instance for x in cnt.values()]\n",
    "    return entropy(probs)"
   ]
  },
  {
   "cell_type": "code",
   "execution_count": 3,
   "id": "european-delaware",
   "metadata": {},
   "outputs": [],
   "source": [
    "import math\n",
    "def entropy(probs):\n",
    "    return sum([-prob*math.log(prob,2) for prob in probs])"
   ]
  },
  {
   "cell_type": "code",
   "execution_count": 11,
   "id": "emotional-agency",
   "metadata": {},
   "outputs": [],
   "source": [
    "def info_gain(df,split,target,trace=0):\n",
    "    df_split = df.groupby(split)\n",
    "    nobs = len(df.index)*1.0\n",
    "    df_agg_ent = df_split.agg({ target:[entropy_list, lambda x: len(x)/nobs] })\n",
    "#     print(df_agg_ent)\n",
    "    df_agg_ent.columns = ['Entropy','PropObserved']\n",
    "    new_entropy = sum( df_agg_ent['Entropy'] * df_agg_ent[\"PropObserved\"])\n",
    "    old_entropy = entropy_list(df[target])\n",
    "    return old_entropy - new_entropy"
   ]
  },
  {
   "cell_type": "code",
   "execution_count": 5,
   "id": "confidential-campbell",
   "metadata": {},
   "outputs": [],
   "source": [
    "def id3(df,target,attribute_name,default_class = None):\n",
    "    cnt = Counter(x for x in df[target])\n",
    "    if len(cnt)==1:\n",
    "        return next(iter(cnt))\n",
    "    elif df.empty or (not attribute_name):\n",
    "        return default_class\n",
    "    else:\n",
    "        default_class = max(cnt.keys())\n",
    "        gains = [info_gain(df,attr,target) for attr in attribute_name]\n",
    "        index_max = gains.index(max(gains))\n",
    "        best_attr = attribute_name[index_max]\n",
    "        tree = { best_attr:{ } }\n",
    "        remaining_attr = [x for x in attribute_name if x!=best_attr]\n",
    "        for attr_val, data_subset in df.groupby(best_attr):\n",
    "            subtree = id3(data_subset,target,remaining_attr,default_class)\n",
    "            tree[best_attr][attr_val] = subtree\n",
    "        return tree"
   ]
  },
  {
   "cell_type": "code",
   "execution_count": 6,
   "id": "cutting-format",
   "metadata": {},
   "outputs": [],
   "source": [
    "def classify(instance,tree,default = None):\n",
    "    attribute = next(iter(tree))\n",
    "    if instance[attribute] in tree[attribute].keys():\n",
    "        result = tree[attribute][instance[attribute]]\n",
    "        if isinstance(result,dict):\n",
    "            return classify(instance,result)\n",
    "        else:\n",
    "            return result\n",
    "    else:\n",
    "        return default"
   ]
  },
  {
   "cell_type": "code",
   "execution_count": 7,
   "id": "accepting-niger",
   "metadata": {},
   "outputs": [
    {
     "name": "stdout",
     "output_type": "stream",
     "text": [
      "\n",
      "\n",
      "The Resultant Decision Tree is :\n",
      "\n",
      "{'outlook': {'overcast': 'yes', 'rainy': {'windy': {False: 'yes', True: 'no'}}, 'sunny': {'humidity': {'high': 'no', 'normal': 'yes'}}}}\n"
     ]
    }
   ],
   "source": [
    "attribute_names = list(df_tennis.columns)\n",
    "attribute_names.remove('PlayTennis') #Remove the class attribute\n",
    "tree = id3(df_tennis,'PlayTennis',attribute_names)\n",
    "print(\"\\n\\nThe Resultant Decision Tree is :\\n\")\n",
    "print(tree)"
   ]
  },
  {
   "cell_type": "code",
   "execution_count": 12,
   "id": "speaking-parcel",
   "metadata": {},
   "outputs": [
    {
     "name": "stdout",
     "output_type": "stream",
     "text": [
      "\n",
      "\n",
      "The Resultant Decision train_tree is :\n",
      "\n",
      "{'outlook': {'overcast': 'yes', 'rainy': {'windy': {False: 'yes', True: 'no'}}, 'sunny': {'temp': {'cool': 'yes', 'hot': 'no', 'mild': 'no'}}}}\n",
      "\n",
      "\n",
      " Training the model for a few samples, and again predicting 'Playtennis' for remaining attribute\n",
      "The Accuracy for new trained data is : 0.75\n"
     ]
    },
    {
     "name": "stderr",
     "output_type": "stream",
     "text": [
      "C:\\Users\\prajw\\anaconda3\\lib\\site-packages\\ipykernel_launcher.py:6: SettingWithCopyWarning: \n",
      "A value is trying to be set on a copy of a slice from a DataFrame.\n",
      "Try using .loc[row_indexer,col_indexer] = value instead\n",
      "\n",
      "See the caveats in the documentation: https://pandas.pydata.org/pandas-docs/stable/user_guide/indexing.html#returning-a-view-versus-a-copy\n",
      "  \n"
     ]
    }
   ],
   "source": [
    "training_data = df_tennis.iloc[1:-4] # all but last thousand instances\n",
    "test_data = df_tennis.iloc[-4:] # just the last thousand\n",
    "train_tree = id3(training_data, 'PlayTennis', attribute_names)\n",
    "print(\"\\n\\nThe Resultant Decision train_tree is :\\n\")\n",
    "print(train_tree)\n",
    "test_data['predicted2'] = test_data.apply(classify,axis=1,args=(train_tree,'Yes') )\n",
    "print ('\\n\\n Training the model for a few samples, and again predicting \\'Playtennis\\' for remaining attribute')\n",
    "print('The Accuracy for new trained data is : ' + str( sum(test_data['PlayTennis']==test_data['predicted2'] ) / (1.0*len(test_data.index)) ))"
   ]
  }
 ],
 "metadata": {
  "kernelspec": {
   "display_name": "Python 3",
   "language": "python",
   "name": "python3"
  },
  "language_info": {
   "codemirror_mode": {
    "name": "ipython",
    "version": 3
   },
   "file_extension": ".py",
   "mimetype": "text/x-python",
   "name": "python",
   "nbconvert_exporter": "python",
   "pygments_lexer": "ipython3",
   "version": "3.7.7"
  }
 },
 "nbformat": 4,
 "nbformat_minor": 5
}
