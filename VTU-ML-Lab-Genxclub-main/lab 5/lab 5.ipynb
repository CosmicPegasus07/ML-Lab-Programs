{
 "cells": [
  {
   "cell_type": "markdown",
   "id": "nonprofit-calcium",
   "metadata": {},
   "source": [
    "# Experiment 5"
   ]
  },
  {
   "cell_type": "markdown",
   "id": "laden-alloy",
   "metadata": {},
   "source": [
    "## Write a program to implement naive Bayesian classifier for a sample training data set stored as a CSV file. Compute the accuracy of the classifier, considering a few test data sets."
   ]
  },
  {
   "cell_type": "code",
   "execution_count": 1,
   "id": "excellent-drain",
   "metadata": {},
   "outputs": [],
   "source": [
    "import numpy as np\n",
    "import math\n",
    "import csv"
   ]
  },
  {
   "cell_type": "code",
   "execution_count": 3,
   "id": "weighted-white",
   "metadata": {},
   "outputs": [],
   "source": [
    "def read_data(filename):\n",
    "    with open(filename, 'r') as csvfile:\n",
    "        datareader = csv.reader(csvfile)\n",
    "        metadata = next(datareader)\n",
    "        traindata=[]\n",
    "        for row in datareader:\n",
    "            traindata.append(row)\n",
    "    return (metadata, traindata)"
   ]
  },
  {
   "cell_type": "code",
   "execution_count": 4,
   "id": "social-bradley",
   "metadata": {},
   "outputs": [],
   "source": [
    "def splitDataset(dataset, splitRatio): \n",
    "    trainSize = int(len(dataset) * splitRatio)\n",
    "    trainSet = []\n",
    "    testset = list(dataset)\n",
    "    i=0\n",
    "    while len(trainSet) < trainSize:\n",
    "        trainSet.append(testset.pop(i))\n",
    "    return [trainSet, testset]"
   ]
  },
  {
   "cell_type": "code",
   "execution_count": 6,
   "id": "pressing-reach",
   "metadata": {},
   "outputs": [],
   "source": [
    "def classify(data,test):\n",
    "    total_size = data.shape[0]\n",
    "    print(\"training data size=\",total_size)\n",
    "    print(\"test data size=\",test.shape[0])\n",
    "    target=np.unique(data[:,-1])\n",
    "    count = np.zeros((target.shape[0]), dtype=np.int32)\n",
    "    prob = np.zeros((target.shape[0]), dtype=np.float32)\n",
    "    \n",
    "    print(\"target count probability\")\n",
    "    \n",
    "    for y in range(target.shape[0]):\n",
    "        for x in range(data.shape[0]):\n",
    "            if data[x,data.shape[1]-1] == target[y]:\n",
    "                count[y] += 1\n",
    "        prob[y]=count[y]/total_size # comptes the probability of target\n",
    "        print(target[y],\"\\t\",count[y],\"\\t\",prob[y])\n",
    "        \n",
    "    prob0 = np.zeros((test.shape[1]-1), dtype=np.float32)\n",
    "    prob1 = np.zeros((test.shape[1]-1), dtype=np.float32)\n",
    "    accuracy=0\n",
    "    print(\"Instance prediction target\")\n",
    "    for t in range(test.shape[0]):\n",
    "        for k in range(test.shape[1]-1): \n",
    "            count1=count0=0\n",
    "            for j in range(data.shape[0]):\n",
    "                if test[t,k]== data[j,k] and data[j,data.shape[1]-1]== target[0]:\n",
    "                    count0+=1\n",
    "                elif test[t,k]== data[j,k] and data[j,data.shape[1]-1]== target[1]:\n",
    "                    count1+=1\n",
    "            prob0[k]= count0/count[0] \n",
    "            prob1[k]= count1/count[1]\n",
    "    \n",
    "        probno=prob[0]\n",
    "        probyes=prob[1]\n",
    "        for i in range(test.shape[1]-1):\n",
    "            probno=probno*prob0[i]\n",
    "            probyes=probyes*prob1[i]\n",
    "    \n",
    "        if probno>probyes: \n",
    "            predict='no'\n",
    "        else:\n",
    "            predict='yes'\n",
    "        print(t+1,\"\\t\",predict,\"\\t \",test[t,test.shape[1]-1])\n",
    "    \n",
    "        if predict== test[t,test.shape[1]-1]:\n",
    "            accuracy+=1\n",
    "        final_accuracy=(accuracy/test.shape[0])*100\n",
    "        print(\"accuracy\",final_accuracy,\"%\")\n",
    "    return"
   ]
  },
  {
   "cell_type": "code",
   "execution_count": 7,
   "id": "naked-arthritis",
   "metadata": {
    "scrolled": true
   },
   "outputs": [
    {
     "name": "stdout",
     "output_type": "stream",
     "text": [
      "------------------Training Data ------------------ \n",
      "[['sunny', 'hot', 'high', 'false', 'no'], ['sunny', 'hot', 'high', 'true', 'no'], ['overcast', 'hot', 'high', 'false', 'yes'], ['rainy', 'mild', 'high', 'false', 'yes'], ['rainy', 'cool', 'normal', 'false', 'yes'], ['rainy', 'cool', 'normal', 'true', 'no'], ['overcast', 'cool', 'normal', 'true', 'yes'], ['sunny', 'mild', 'high', 'false', 'no']]\n",
      "-------------------Test Data ------------------ \n",
      "[['sunny', 'cool', 'normal', 'false', 'yes'], ['rainy', 'mild', 'normal', 'false', 'yes'], ['sunny', 'mild', 'normal', 'true', 'yes'], ['overcast', 'mild', 'high', 'true', 'yes'], ['overcast', 'hot', 'normal', 'false', 'yes'], ['rainy', 'mild', 'high', 'true', 'no']]\n",
      "training data size= 8\n",
      "test data size= 6\n",
      "target count probability\n",
      "no \t 4 \t 0.5\n",
      "yes \t 4 \t 0.5\n",
      "Instance prediction target\n",
      "1 \t no \t  yes\n",
      "accuracy 0.0 %\n",
      "2 \t yes \t  yes\n",
      "accuracy 16.666666666666664 %\n",
      "3 \t no \t  yes\n",
      "accuracy 16.666666666666664 %\n",
      "4 \t yes \t  yes\n",
      "accuracy 33.33333333333333 %\n",
      "5 \t yes \t  yes\n",
      "accuracy 50.0 %\n",
      "6 \t no \t  no\n",
      "accuracy 66.66666666666666 %\n"
     ]
    }
   ],
   "source": [
    "metadata, traindata = read_data(\"tennis.csv\")\n",
    "splitRatio = 0.6\n",
    "trainingset, testset = splitDataset(traindata, splitRatio)\n",
    "training=np.array(trainingset)\n",
    "testing=np.array(testset)\n",
    "print(\"------------------Training Data ------------------ \")\n",
    "print(trainingset)\n",
    "print(\"-------------------Test Data ------------------ \")\n",
    "print(testset)\n",
    "\n",
    "classify(training,testing)"
   ]
  }
 ],
 "metadata": {
  "kernelspec": {
   "display_name": "Python 3",
   "language": "python",
   "name": "python3"
  },
  "language_info": {
   "codemirror_mode": {
    "name": "ipython",
    "version": 3
   },
   "file_extension": ".py",
   "mimetype": "text/x-python",
   "name": "python",
   "nbconvert_exporter": "python",
   "pygments_lexer": "ipython3",
   "version": "3.7.7"
  }
 },
 "nbformat": 4,
 "nbformat_minor": 5
}
