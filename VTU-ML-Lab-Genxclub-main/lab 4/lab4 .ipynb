{
 "cells": [
  {
   "cell_type": "markdown",
   "id": "cathedral-companion",
   "metadata": {},
   "source": [
    "# Experiment 4"
   ]
  },
  {
   "cell_type": "markdown",
   "id": "second-croatia",
   "metadata": {},
   "source": [
    "## Build an Artificial Neural by implementing the Backpropagation algorithm and test the same using appropriate data sets."
   ]
  },
  {
   "cell_type": "code",
   "execution_count": 1,
   "id": "incorporate-passport",
   "metadata": {},
   "outputs": [],
   "source": [
    "import numpy as np "
   ]
  },
  {
   "cell_type": "code",
   "execution_count": 2,
   "id": "collected-review",
   "metadata": {},
   "outputs": [],
   "source": [
    "X = np.array(([2, 9], [1, 5], [3, 6]), dtype=float)\n",
    "y = np.array(([92], [86], [89]), dtype=float)\n",
    "\n",
    "X = X/np.amax(X,axis=0) # Normalize \n",
    "y = y/100"
   ]
  },
  {
   "cell_type": "code",
   "execution_count": 3,
   "id": "informal-arrival",
   "metadata": {},
   "outputs": [
    {
     "data": {
      "text/plain": [
       "array([[0.66666667, 1.        ],\n",
       "       [0.33333333, 0.55555556],\n",
       "       [1.        , 0.66666667]])"
      ]
     },
     "execution_count": 3,
     "metadata": {},
     "output_type": "execute_result"
    }
   ],
   "source": [
    "X"
   ]
  },
  {
   "cell_type": "code",
   "execution_count": 4,
   "id": "checked-fountain",
   "metadata": {},
   "outputs": [
    {
     "data": {
      "text/plain": [
       "array([[0.92],\n",
       "       [0.86],\n",
       "       [0.89]])"
      ]
     },
     "execution_count": 4,
     "metadata": {},
     "output_type": "execute_result"
    }
   ],
   "source": [
    "y"
   ]
  },
  {
   "cell_type": "code",
   "execution_count": 5,
   "id": "diverse-leisure",
   "metadata": {},
   "outputs": [],
   "source": [
    "def sigmoid(x):\n",
    "    return 1/(1 + np.exp(-x))\n",
    "def sigmoid_grad(x):\n",
    "    return x * (1 - x)"
   ]
  },
  {
   "cell_type": "code",
   "execution_count": 7,
   "id": "dense-drawing",
   "metadata": {},
   "outputs": [],
   "source": [
    "# Variable initialization\n",
    "epoch=1000\n",
    "eta =0.2\n",
    "input_neurons = 2\n",
    "hidden_neurons = 3\n",
    "output_neurons = 1"
   ]
  },
  {
   "cell_type": "markdown",
   "id": "foreign-cleaners",
   "metadata": {},
   "source": [
    "## With the help of numpy.random.uniform() method, we can get the random samples from uniform distribution and returns the random samples as numpy array by using this method."
   ]
  },
  {
   "cell_type": "code",
   "execution_count": 8,
   "id": "prescribed-minnesota",
   "metadata": {},
   "outputs": [],
   "source": [
    "wh=np.random.uniform(size=(input_neurons,hidden_neurons))\t# 2x3 \n",
    "bh=np.random.uniform(size=(1,hidden_neurons))\t# 1x3 \n",
    "wout=np.random.uniform(size=(hidden_neurons,output_neurons)) # 1x1 \n",
    "bout=np.random.uniform(size=(1,output_neurons))"
   ]
  },
  {
   "cell_type": "code",
   "execution_count": 9,
   "id": "received-implement",
   "metadata": {},
   "outputs": [],
   "source": [
    "for i in range(epoch):\n",
    "    h_ip=np.dot(X,wh) + bh \n",
    "    h_act = sigmoid(h_ip) \n",
    "    o_ip=np.dot(h_act,wout) + bout\n",
    "    output = sigmoid(o_ip)\n",
    "    \n",
    "    Eo = y-output \n",
    "    outgrad = sigmoid_grad(output)\n",
    "    d_output = Eo* outgrad\n",
    "    \n",
    "    Eh = d_output.dot(wout.T)\n",
    "    hiddengrad = sigmoid_grad(h_act) \n",
    "    d_hidden = Eh * hiddengrad\n",
    "    \n",
    "    wout += h_act.T.dot(d_output) *eta \n",
    "    wh += X.T.dot(d_output) *eta\n",
    "    "
   ]
  },
  {
   "cell_type": "code",
   "execution_count": 10,
   "id": "accredited-grove",
   "metadata": {},
   "outputs": [
    {
     "name": "stdout",
     "output_type": "stream",
     "text": [
      "Normalized Input: \n",
      "[[0.66666667 1.        ]\n",
      " [0.33333333 0.55555556]\n",
      " [1.         0.66666667]]\n",
      "Actual Output: \n",
      "[[0.92]\n",
      " [0.86]\n",
      " [0.89]]\n",
      "Predicted Output: \n",
      " [[0.8933994 ]\n",
      " [0.88431363]\n",
      " [0.89381907]]\n"
     ]
    }
   ],
   "source": [
    "print(\"Normalized Input: \\n\" + str(X))\n",
    "print(\"Actual Output: \\n\" + str(y))\n",
    "print(\"Predicted Output: \\n\" ,output)"
   ]
  },
  {
   "cell_type": "code",
   "execution_count": null,
   "id": "proof-gross",
   "metadata": {},
   "outputs": [],
   "source": []
  }
 ],
 "metadata": {
  "kernelspec": {
   "display_name": "Python 3",
   "language": "python",
   "name": "python3"
  },
  "language_info": {
   "codemirror_mode": {
    "name": "ipython",
    "version": 3
   },
   "file_extension": ".py",
   "mimetype": "text/x-python",
   "name": "python",
   "nbconvert_exporter": "python",
   "pygments_lexer": "ipython3",
   "version": "3.7.7"
  }
 },
 "nbformat": 4,
 "nbformat_minor": 5
}
